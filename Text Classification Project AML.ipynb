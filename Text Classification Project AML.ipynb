{
 "cells": [
  {
   "cell_type": "markdown",
   "metadata": {},
   "source": [
    "# OMPHEMETSE MANGOPE \n",
    "Advanced Machine Learning                     \n",
    "Text Classification Project \n",
    "\n"
   ]
  },
  {
   "cell_type": "code",
   "execution_count": 157,
   "metadata": {},
   "outputs": [
    {
     "data": {
      "text/html": [
       "<div>\n",
       "<style scoped>\n",
       "    .dataframe tbody tr th:only-of-type {\n",
       "        vertical-align: middle;\n",
       "    }\n",
       "\n",
       "    .dataframe tbody tr th {\n",
       "        vertical-align: top;\n",
       "    }\n",
       "\n",
       "    .dataframe thead th {\n",
       "        text-align: right;\n",
       "    }\n",
       "</style>\n",
       "<table border=\"1\" class=\"dataframe\">\n",
       "  <thead>\n",
       "    <tr style=\"text-align: right;\">\n",
       "      <th></th>\n",
       "      <th>Id</th>\n",
       "      <th>Review</th>\n",
       "      <th>Label</th>\n",
       "    </tr>\n",
       "  </thead>\n",
       "  <tbody>\n",
       "    <tr>\n",
       "      <td>0</td>\n",
       "      <td>0</td>\n",
       "      <td>good and interesting</td>\n",
       "      <td>5</td>\n",
       "    </tr>\n",
       "    <tr>\n",
       "      <td>1</td>\n",
       "      <td>1</td>\n",
       "      <td>This class is very helpful to me. Currently, I...</td>\n",
       "      <td>5</td>\n",
       "    </tr>\n",
       "    <tr>\n",
       "      <td>2</td>\n",
       "      <td>2</td>\n",
       "      <td>like!Prof and TAs are helpful and the discussi...</td>\n",
       "      <td>5</td>\n",
       "    </tr>\n",
       "    <tr>\n",
       "      <td>3</td>\n",
       "      <td>3</td>\n",
       "      <td>Easy to follow and includes a lot basic and im...</td>\n",
       "      <td>5</td>\n",
       "    </tr>\n",
       "    <tr>\n",
       "      <td>4</td>\n",
       "      <td>4</td>\n",
       "      <td>Really nice teacher!I could got the point eazl...</td>\n",
       "      <td>4</td>\n",
       "    </tr>\n",
       "  </tbody>\n",
       "</table>\n",
       "</div>"
      ],
      "text/plain": [
       "   Id                                             Review  Label\n",
       "0   0                               good and interesting      5\n",
       "1   1  This class is very helpful to me. Currently, I...      5\n",
       "2   2  like!Prof and TAs are helpful and the discussi...      5\n",
       "3   3  Easy to follow and includes a lot basic and im...      5\n",
       "4   4  Really nice teacher!I could got the point eazl...      4"
      ]
     },
     "execution_count": 157,
     "metadata": {},
     "output_type": "execute_result"
    }
   ],
   "source": [
    "import nltk\n",
    "import string\n",
    "import pandas as pd\n",
    "from itertools import chain\n",
    "from collections import Counter\n",
    "from sklearn.model_selection import train_test_split\n",
    "from sklearn.feature_extraction.text import CountVectorizer\n",
    "\n",
    "data = pd.read_excel('reviews.xlsx')\n",
    "data.head()"
   ]
  },
  {
   "cell_type": "markdown",
   "metadata": {},
   "source": [
    "# Model building"
   ]
  },
  {
   "cell_type": "code",
   "execution_count": 158,
   "metadata": {},
   "outputs": [],
   "source": [
    "def Naive_bayes(prior,likelihood):\n",
    "    return(likelihood * prior)"
   ]
  },
  {
   "cell_type": "markdown",
   "metadata": {},
   "source": [
    "# Exploratory Analysis"
   ]
  },
  {
   "cell_type": "code",
   "execution_count": 159,
   "metadata": {},
   "outputs": [
    {
     "data": {
      "text/plain": [
       "Id         int64\n",
       "Review    object\n",
       "Label      int64\n",
       "dtype: object"
      ]
     },
     "execution_count": 159,
     "metadata": {},
     "output_type": "execute_result"
    }
   ],
   "source": [
    "data.dtypes"
   ]
  },
  {
   "cell_type": "code",
   "execution_count": 160,
   "metadata": {},
   "outputs": [
    {
     "data": {
      "text/plain": [
       "(107018, 3)"
      ]
     },
     "execution_count": 160,
     "metadata": {},
     "output_type": "execute_result"
    }
   ],
   "source": [
    "data.shape"
   ]
  },
  {
   "cell_type": "code",
   "execution_count": 161,
   "metadata": {},
   "outputs": [
    {
     "data": {
      "text/plain": [
       "5    79173\n",
       "4    18054\n",
       "3     5071\n",
       "1     2469\n",
       "2     2251\n",
       "Name: Label, dtype: int64"
      ]
     },
     "execution_count": 161,
     "metadata": {},
     "output_type": "execute_result"
    }
   ],
   "source": [
    " data['Label'].value_counts()"
   ]
  },
  {
   "cell_type": "code",
   "execution_count": 162,
   "metadata": {},
   "outputs": [
    {
     "data": {
      "text/plain": [
       "Id        0\n",
       "Review    5\n",
       "Label     0\n",
       "dtype: int64"
      ]
     },
     "execution_count": 162,
     "metadata": {},
     "output_type": "execute_result"
    }
   ],
   "source": [
    "data.isnull().sum()"
   ]
  },
  {
   "cell_type": "code",
   "execution_count": 163,
   "metadata": {},
   "outputs": [],
   "source": [
    "data=data.dropna()"
   ]
  },
  {
   "cell_type": "code",
   "execution_count": 164,
   "metadata": {},
   "outputs": [
    {
     "data": {
      "text/plain": [
       "Id        0\n",
       "Review    0\n",
       "Label     0\n",
       "dtype: int64"
      ]
     },
     "execution_count": 164,
     "metadata": {},
     "output_type": "execute_result"
    }
   ],
   "source": [
    "data.isnull().sum()"
   ]
  },
  {
   "cell_type": "markdown",
   "metadata": {},
   "source": [
    "# Text preprocessing "
   ]
  },
  {
   "cell_type": "code",
   "execution_count": 165,
   "metadata": {},
   "outputs": [
    {
     "data": {
      "text/html": [
       "<div>\n",
       "<style scoped>\n",
       "    .dataframe tbody tr th:only-of-type {\n",
       "        vertical-align: middle;\n",
       "    }\n",
       "\n",
       "    .dataframe tbody tr th {\n",
       "        vertical-align: top;\n",
       "    }\n",
       "\n",
       "    .dataframe thead th {\n",
       "        text-align: right;\n",
       "    }\n",
       "</style>\n",
       "<table border=\"1\" class=\"dataframe\">\n",
       "  <thead>\n",
       "    <tr style=\"text-align: right;\">\n",
       "      <th></th>\n",
       "      <th>Id</th>\n",
       "      <th>Review</th>\n",
       "      <th>Label</th>\n",
       "      <th>tokens</th>\n",
       "    </tr>\n",
       "  </thead>\n",
       "  <tbody>\n",
       "    <tr>\n",
       "      <td>0</td>\n",
       "      <td>0</td>\n",
       "      <td>good and interesting</td>\n",
       "      <td>5</td>\n",
       "      <td>['good', 'and', 'interesting']</td>\n",
       "    </tr>\n",
       "    <tr>\n",
       "      <td>1</td>\n",
       "      <td>1</td>\n",
       "      <td>This class is very helpful to me. Currently, I...</td>\n",
       "      <td>5</td>\n",
       "      <td>['This', 'class', 'is', 'very', 'helpful', 'to...</td>\n",
       "    </tr>\n",
       "    <tr>\n",
       "      <td>2</td>\n",
       "      <td>2</td>\n",
       "      <td>like!Prof and TAs are helpful and the discussi...</td>\n",
       "      <td>5</td>\n",
       "      <td>['like', '!', 'Prof', 'and', 'TAs', 'are', 'he...</td>\n",
       "    </tr>\n",
       "  </tbody>\n",
       "</table>\n",
       "</div>"
      ],
      "text/plain": [
       "   Id                                             Review  Label  \\\n",
       "0   0                               good and interesting      5   \n",
       "1   1  This class is very helpful to me. Currently, I...      5   \n",
       "2   2  like!Prof and TAs are helpful and the discussi...      5   \n",
       "\n",
       "                                              tokens  \n",
       "0                     ['good', 'and', 'interesting']  \n",
       "1  ['This', 'class', 'is', 'very', 'helpful', 'to...  \n",
       "2  ['like', '!', 'Prof', 'and', 'TAs', 'are', 'he...  "
      ]
     },
     "execution_count": 165,
     "metadata": {},
     "output_type": "execute_result"
    }
   ],
   "source": [
    "# Tokenization aims at splitting the text input sequences in tokens, or single words/characters \n",
    "\n",
    "# Tokenization: word_tokenize is adopted from nltk lbrary\n",
    "data['tokens'] = data.apply(lambda row:nltk.word_tokenize(row['Review']), axis=1)\n",
    "\n",
    "# Converting the a sequence list into string type\n",
    "data['tokens'] = data['tokens'].astype(str)\n",
    "\n",
    "data.head(3)"
   ]
  },
  {
   "cell_type": "code",
   "execution_count": 166,
   "metadata": {},
   "outputs": [],
   "source": [
    "# nltk corpus has a list of words called stopwords which aims to remove words with less contribution,\n",
    "# for making predictions\n",
    "stop_words = nltk.corpus.stopwords.words(\"english\") + list(string.punctuation)\n",
    "\n",
    "X = []\n",
    "\n",
    "for w in data['tokens']:\n",
    "    if w not in stop_words:\n",
    "        X.append(w)"
   ]
  },
  {
   "cell_type": "code",
   "execution_count": 167,
   "metadata": {},
   "outputs": [],
   "source": [
    "# Stemming aims at removing and replacing suffixes of words to get to its root form, this is done \n",
    "# using some rules embedded on the stemmer. However, different stemmers exist, PorterStemmer() is one:\n",
    "\n",
    "ps = nltk.stem.PorterStemmer()\n",
    "\n",
    "X_ = []\n",
    "\n",
    "for w in X:\n",
    "    X_.append(ps.stem(w))"
   ]
  },
  {
   "cell_type": "code",
   "execution_count": 168,
   "metadata": {},
   "outputs": [],
   "source": [
    "# The computer might differentiate two words with the same meaning due to its lowercase and uppercase,\n",
    "# words, here the lowercase is chosen as the standard for all words. \n",
    "\n",
    "words = []\n",
    "\n",
    "for w in X_:\n",
    "    words.append(w.lower())\n",
    "    \n",
    "    \n",
    "data['tokens'] = words"
   ]
  },
  {
   "cell_type": "code",
   "execution_count": 169,
   "metadata": {},
   "outputs": [],
   "source": [
    "# The machines understand numerical language than textual language. Therefore, CountVectorizer is used \n",
    "# as a tool for turning words as features and then take note whether the word appear or not. If it \n",
    "# appears in document i, it gets a 1 and if doesn't appear it get a 0. Luckily,CountVectorizer also \n",
    "# has the stop_words, property.\n",
    "\n",
    "vectorizer = CountVectorizer(stop_words='english')\n",
    "tokens = vectorizer.fit_transform(data.tokens)\n",
    "\n",
    "# furthermore, CountVectorizer has takes not of vocabulary, this vocabulary property counts how many \n",
    "# times a word appears in the text. \n",
    "\n",
    "vocab=len(vectorizer.vocabulary_) # Here we count the total count of unique words in the text"
   ]
  },
  {
   "cell_type": "code",
   "execution_count": 170,
   "metadata": {},
   "outputs": [
    {
     "data": {
      "text/plain": [
       "(107013, 33418)"
      ]
     },
     "execution_count": 170,
     "metadata": {},
     "output_type": "execute_result"
    }
   ],
   "source": [
    "tokens.shape # Here we can see that we have 107013 docs and 33418 unique words which are repeated \n",
    "             # multiple times in the text data"
   ]
  },
  {
   "cell_type": "markdown",
   "metadata": {},
   "source": [
    "# Computing likelihood and prior "
   ]
  },
  {
   "cell_type": "code",
   "execution_count": 186,
   "metadata": {},
   "outputs": [],
   "source": [
    "# Word count of words per class\n",
    "Label_1 = [data['tokens'] for index,data in data.iterrows() if data['Label'] ==1]\n",
    "word_count_1 = len(Counter(chain(*Label_1))) \n",
    "\n",
    "Label_2 = [data['tokens'] for index,data in data.iterrows() if data['Label'] ==2]\n",
    "word_count_2 = len(Counter(chain(*Label_2))) \n",
    "\n",
    "Label_3 = [data['tokens'] for index,data in data.iterrows() if data['Label'] ==3]\n",
    "word_count_3 = len(Counter(chain(*Label_3))) \n",
    "\n",
    "Label_4 = [data['tokens'] for index,data in data.iterrows() if data['Label'] ==4]\n",
    "word_count_4 = len(Counter(chain(*Label_4))) \n",
    "\n",
    "Label_5 = [data['tokens'] for index,data in data.iterrows() if data['Label'] ==5]\n",
    "word_count_5 = len(Counter(chain(*Label_5))) \n",
    "\n",
    "# Number of data points in class C\n",
    "N_1 = (data['Label']==1).sum()\n",
    "N_2 = (data['Label']==2).sum()\n",
    "N_3 = (data['Label']==3).sum()\n",
    "N_4 = (data['Label']==4).sum()\n",
    "N_5 = (data['Label']==5).sum()\n",
    "\n",
    "\n",
    "# Total number of points\n",
    "N = len(data)\n",
    "\n",
    "# Pior of each class C\n",
    "π_1 = N_1/N\n",
    "π_2 = N_2/N\n",
    "π_3 = N_3/N\n",
    "π_4 = N_4/N\n",
    "π_5 = N_5/N\n",
    "\n",
    "# Likelihood for each class C\n",
    "likelihood_5 = (word_count_5 + 1)/ (N_5 + abs(vocab)) \n",
    "likelihood_4 = (word_count_4 + 1)/ (N_4 + abs(vocab)) \n",
    "likelihood_3 = (word_count_3 + 1)/ (N_3 + abs(vocab)) \n",
    "likelihood_2 = (word_count_2 + 1)/ (N_2 + abs(vocab)) \n",
    "likelihood_1 = (word_count_1 + 1)/ (N_1 + abs(vocab))"
   ]
  },
  {
   "cell_type": "markdown",
   "metadata": {},
   "source": [
    "# Posterior quantities for each class label "
   ]
  },
  {
   "cell_type": "code",
   "execution_count": 189,
   "metadata": {},
   "outputs": [],
   "source": [
    "Class_Label1 = Naive_bayes(likelihood_1, π_1)\n",
    "Class_Label2 = Naive_bayes(likelihood_2, π_2)\n",
    "Class_Label3 = Naive_bayes(likelihood_3, π_3)\n",
    "Class_Label4 = Naive_bayes(likelihood_4, π_4)\n",
    "Class_Label5 = Naive_bayes(likelihood_5, π_5)"
   ]
  },
  {
   "cell_type": "code",
   "execution_count": null,
   "metadata": {},
   "outputs": [],
   "source": []
  }
 ],
 "metadata": {
  "kernelspec": {
   "display_name": "Python 3",
   "language": "python",
   "name": "python3"
  },
  "language_info": {
   "codemirror_mode": {
    "name": "ipython",
    "version": 3
   },
   "file_extension": ".py",
   "mimetype": "text/x-python",
   "name": "python",
   "nbconvert_exporter": "python",
   "pygments_lexer": "ipython3",
   "version": "3.7.4"
  }
 },
 "nbformat": 4,
 "nbformat_minor": 2
}
